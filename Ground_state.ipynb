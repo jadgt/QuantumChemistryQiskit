{
 "cells": [
  {
   "cell_type": "markdown",
   "metadata": {},
   "source": [
    "## Importing all the modules"
   ]
  },
  {
   "cell_type": "code",
   "execution_count": null,
   "metadata": {},
   "outputs": [],
   "source": [
    "from qiskit_nature.settings import settings #General settings\n",
    "from qiskit_nature.drivers import UnitsType #Units\n",
    "from qiskit_nature.drivers.second_quantization import PySCFDriver #Driver = PySCF\n",
    "from qiskit_nature.problems.second_quantization.electronic import ElectronicStructureProblem #Problem = Electronic Structure\n",
    "\n",
    "settings.dict_aux_operators = True"
   ]
  },
  {
   "cell_type": "markdown",
   "metadata": {},
   "source": [
    "## Definition of the driver and the problem"
   ]
  },
  {
   "cell_type": "code",
   "execution_count": null,
   "metadata": {},
   "outputs": [],
   "source": [
    "driver = PySCFDriver(atom='O 0.00000 0.00000 0.11779; H 0.00000 0.75545 -0.47116; H 0.00000 -0.75545 -0.47116',\n",
    "                     unit=UnitsType.ANGSTROM,\n",
    "                     basis='sto3g')\n",
    "problem = ElectronicStructureProblem(driver)\n"
   ]
  },
  {
   "cell_type": "markdown",
   "metadata": {},
   "source": [
    "Once defined the driver and the problem we can extract the fermionic operators"
   ]
  },
  {
   "cell_type": "code",
   "execution_count": null,
   "metadata": {},
   "outputs": [],
   "source": [
    "## The driver computes the SCF in the molecule and give back all tis properties\n",
    "properties = problem.driver.run()\n",
    "print(properties)"
   ]
  },
  {
   "cell_type": "markdown",
   "metadata": {},
   "source": [
    "Now, if we want the second quantization operators wich can be transformed into Qbits, we can just call any property we want"
   ]
  },
  {
   "cell_type": "code",
   "execution_count": null,
   "metadata": {},
   "outputs": [],
   "source": [
    "second_q_ops = properties.second_q_ops()\n",
    "print(second_q_ops)"
   ]
  },
  {
   "cell_type": "markdown",
   "metadata": {},
   "source": [
    "All the information is stored into a dictionary so, if we want the Hamiltonian in the Fock space, we just need the electronic energies times the fock vectors"
   ]
  },
  {
   "cell_type": "code",
   "execution_count": null,
   "metadata": {},
   "outputs": [],
   "source": [
    "hamiltonian = second_q_ops['ElectronicEnergy']\n",
    "print(hamiltonian)"
   ]
  },
  {
   "cell_type": "markdown",
   "metadata": {},
   "source": [
    "The Hamiltonian has 1085 terms and the fock vectors has 14 spin orbitals, meaning that if we map 1 to 1 we will need 14 Qbits to define the Hamiltonian.\n",
    "The numbers in the vector denotes the spin orbital (numbered from 0 to 13) and the + means a creation operator and the - an anihilation operator"
   ]
  },
  {
   "cell_type": "markdown",
   "metadata": {},
   "source": [
    "## Inspecting the Ground state\n",
    "\n",
    "To do that we can decide if we want to use all the 14 spin orbitals (full CI-like) or we prefer to constrain the active space (CASSCF like)"
   ]
  },
  {
   "cell_type": "markdown",
   "metadata": {},
   "source": [
    "### 1. All the 14 spin orbitals"
   ]
  },
  {
   "cell_type": "markdown",
   "metadata": {},
   "source": [
    "Transformation from fermions to spins (Qbits).\n",
    "We need to use a Mapper, let's try with Jordan-Wigner with has a 1 to 1 correspondence between occupation number and spin"
   ]
  },
  {
   "cell_type": "code",
   "execution_count": null,
   "metadata": {},
   "outputs": [],
   "source": [
    "from qiskit_nature.converters.second_quantization import QubitConverter\n",
    "from qiskit_nature.mappers.second_quantization import JordanWignerMapper\n",
    "\n",
    "jw_mapper = JordanWignerMapper()\n",
    "jw_converter = QubitConverter(jw_mapper)"
   ]
  },
  {
   "cell_type": "code",
   "execution_count": null,
   "metadata": {},
   "outputs": [],
   "source": [
    "qbit_op_jw = jw_converter.convert(hamiltonian)\n",
    "print(qbit_op_jw)"
   ]
  },
  {
   "cell_type": "markdown",
   "metadata": {},
   "source": [
    "The nomenclature of the Qbits is: weight * Pauli term"
   ]
  },
  {
   "cell_type": "markdown",
   "metadata": {},
   "source": [
    "We can reduce the size of the problem considering symmetries in the Hilbert space of our system. For that we can use a **Parity Mapper** that can remove 2 qbits by exploiting the particle-conserving properties of the electronic structure problems:"
   ]
  },
  {
   "cell_type": "code",
   "execution_count": null,
   "metadata": {},
   "outputs": [],
   "source": [
    "from qiskit_nature.mappers.second_quantization import ParityMapper\n",
    "\n",
    "parity_mapper = ParityMapper()\n",
    "parity_converter = QubitConverter(parity_mapper, two_qubit_reduction=True)\n",
    "## This converter will need as a second argument the number of particles, we can get that from the problem or the properties\n",
    "qbit_op_parity = parity_converter.convert(hamiltonian,properties.get_property('num_particles'))\n",
    "## Or directly from problem\n",
    "qbit_op_parity = parity_converter.convert(hamiltonian,problem.num_particles) ## This solution requires re-run the driver\n",
    "## in any case:\n",
    "print(qbit_op_parity)\n",
    "## This new qbit hamiltonian has 12 qbits instead of 14"
   ]
  },
  {
   "cell_type": "markdown",
   "metadata": {},
   "source": [
    "Now, to get the ground state energy we will use the variational principle in a quantum algorithm.\n",
    "Which means the variational equation will be classically evaluated but the expectation values will be calculated in the quantum computer side as the expectation value of the Pauli operator"
   ]
  },
  {
   "cell_type": "code",
   "execution_count": null,
   "metadata": {},
   "outputs": [],
   "source": [
    "## Factory settings\n",
    "from qiskit.algorithms.optimizers import SLSQP # Optimizer\n",
    "from qiskit.providers.aer import StatevectorSimulator, QasmSimulator ## Quantum computer simulator\n",
    "## We need now to build an ansatz for the solver. In this case we will solve the ground state finding the minimum eigenvalues \n",
    "from qiskit_nature.algorithms.ground_state_solvers.minimum_eigensolver_factories import VQEUCCFactory ## Uses the variational quantum eigensolver with a Unitary Coupled Cluster ansatz\n",
    "\n",
    "vqe_factory = VQEUCCFactory(quantum_instance=StatevectorSimulator() ,optimizer=SLSQP()) ## if we use instead the Qasm simulator we can analyze the noise"
   ]
  },
  {
   "cell_type": "code",
   "execution_count": null,
   "metadata": {},
   "outputs": [],
   "source": [
    "from qiskit_nature.algorithms.ground_state_solvers import GroundStateEigensolver\n",
    "solver_full = GroundStateEigensolver(jw_converter, vqe_factory)\n",
    "solver_parity = GroundStateEigensolver(parity_converter,vqe_factory)\n",
    "result_full = solver_full.solve(problem)\n",
    "result_parity = solver_parity(problem)\n",
    "## This calculation will take a while with the simulator"
   ]
  },
  {
   "cell_type": "code",
   "execution_count": null,
   "metadata": {},
   "outputs": [],
   "source": [
    "#Print the results\n",
    "print(result_full)\n",
    "print(result_parity)"
   ]
  },
  {
   "cell_type": "markdown",
   "metadata": {},
   "source": [
    "### 2. A Smaller active space\n",
    "Let's pick an active space with 6 spin orbitals (2 electrons and 3 orbitals)"
   ]
  },
  {
   "cell_type": "markdown",
   "metadata": {},
   "source": [
    "Qiskit nature has a active space selector implemented"
   ]
  },
  {
   "cell_type": "code",
   "execution_count": null,
   "metadata": {},
   "outputs": [],
   "source": [
    "from qiskit_nature.transformers.second_quantization.electronic import ActiveSpaceTransformer\n",
    "transformer = ActiveSpaceTransformer(num_electrons=2,num_molecular_orbitals=3)\n",
    "problem_active_space = ElectronicStructureProblem(driver,[transformer])\n",
    "second_q_ops_cas = problem_active_space.second_q_ops()\n",
    "hamiltonian_cas = second_q_ops_cas['ElectronicEnergy']\n",
    "print(hamiltonian_cas)"
   ]
  },
  {
   "cell_type": "markdown",
   "metadata": {},
   "source": [
    "Now, that we have a very reduced system we can still apply the parity to get rid of two Qbits"
   ]
  },
  {
   "cell_type": "code",
   "execution_count": null,
   "metadata": {},
   "outputs": [],
   "source": [
    "qbit_op_parity_cas = parity_converter.convert(hamiltonian_cas,problem_active_space.num_particles)\n",
    "print(qbit_op_parity_cas)\n",
    "## This new setting uses only 4 Qbits"
   ]
  },
  {
   "cell_type": "markdown",
   "metadata": {},
   "source": [
    "Now we can get the ground state energy using the same factory as above"
   ]
  },
  {
   "cell_type": "code",
   "execution_count": null,
   "metadata": {},
   "outputs": [],
   "source": [
    "solver_cas = GroundStateEigensolver(parity_converter,vqe_factory)\n",
    "result_cas = solver_cas.solve(problem_active_space)\n",
    "print(result_cas)"
   ]
  },
  {
   "cell_type": "markdown",
   "metadata": {},
   "source": [
    "Doing our own ansatz and sending the calculation to a real quantum computer (simulator)"
   ]
  },
  {
   "cell_type": "code",
   "execution_count": null,
   "metadata": {},
   "outputs": [],
   "source": [
    "from qiskit.circuit.library import EfficientSU2 \n",
    "ansatz = EfficientSU2(qbit_op_parity_cas.num_qubits, reps=3, entanglement='linear', insert_barriers=True)\n",
    "#ansatz.decompose().draw('latex', style='iqx')"
   ]
  },
  {
   "cell_type": "code",
   "execution_count": null,
   "metadata": {},
   "outputs": [],
   "source": [
    "from qiskit import Aer # Backend for the simulation\n",
    "\n",
    "backend = Aer.get_backend('aer_simulator_statevector')\n"
   ]
  },
  {
   "cell_type": "markdown",
   "metadata": {},
   "source": [
    "Solving the problem using the Variational Quantum Eigensolver"
   ]
  },
  {
   "cell_type": "code",
   "execution_count": null,
   "metadata": {},
   "outputs": [],
   "source": [
    "from qiskit.algorithms.optimizers import SLSQP\n",
    "from qiskit.algorithms import VQE\n",
    "\n",
    "optimizer = SLSQP()\n",
    "\n",
    "algorithm = VQE(ansatz,\n",
    "                optimizer=optimizer,\n",
    "                quantum_instance=backend)\n",
    "\n",
    "result = algorithm.compute_minimum_eigenvalue(qbit_op_parity_cas)\n",
    "print(result.eigenvalue.real)\n",
    "\n",
    "electronic_structure_result = problem.interpret(result)\n",
    "print(electronic_structure_result)"
   ]
  },
  {
   "cell_type": "code",
   "execution_count": null,
   "metadata": {},
   "outputs": [],
   "source": [
    "from qiskit_nature.circuit.library import UCCSD\n",
    "from qiskit_nature.circuit.library import HartreeFock\n",
    "init_state = HartreeFock(problem_active_space.num_spin_orbitals,problem_active_space.num_particles, parity_converter)\n",
    "ansatz = UCCSD(parity_converter,problem_active_space.num_particles, problem_active_space.num_spin_orbitals,reps=3,initial_state=init_state)"
   ]
  },
  {
   "cell_type": "code",
   "execution_count": null,
   "metadata": {},
   "outputs": [],
   "source": [
    "from qiskit.algorithms.optimizers import SLSQP\n",
    "from qiskit.algorithms import VQE\n",
    "\n",
    "optimizer = SLSQP()\n",
    "\n",
    "algorithm = VQE(ansatz,\n",
    "                optimizer=optimizer,\n",
    "                quantum_instance=backend)\n",
    "\n",
    "result = algorithm.compute_minimum_eigenvalue(qbit_op_parity_cas)\n",
    "print(result.eigenvalue.real)\n",
    "\n",
    "electronic_structure_result = problem.interpret(result)\n",
    "print(electronic_structure_result)"
   ]
  },
  {
   "cell_type": "code",
   "execution_count": null,
   "metadata": {},
   "outputs": [],
   "source": []
  }
 ],
 "metadata": {
  "interpreter": {
   "hash": "31f2aee4e71d21fbe5cf8b01ff0e069b9275f58929596ceb00d14d90e3e16cd6"
  },
  "kernelspec": {
   "display_name": "Python 3.8.9 64-bit",
   "language": "python",
   "name": "python3"
  },
  "language_info": {
   "codemirror_mode": {
    "name": "ipython",
    "version": 3
   },
   "file_extension": ".py",
   "mimetype": "text/x-python",
   "name": "python",
   "nbconvert_exporter": "python",
   "pygments_lexer": "ipython3",
   "version": "3.8.10"
  },
  "orig_nbformat": 4
 },
 "nbformat": 4,
 "nbformat_minor": 2
}
